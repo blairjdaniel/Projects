{
 "cells": [
  {
   "cell_type": "code",
   "execution_count": 3,
   "metadata": {},
   "outputs": [],
   "source": [
    "from sklearn.dummy import DummyClassifier"
   ]
  },
  {
   "cell_type": "code",
   "execution_count": 4,
   "metadata": {},
   "outputs": [],
   "source": [
    "strat_clf = DummyClassifier(strategy='stratified', random_state=1)"
   ]
  },
  {
   "cell_type": "code",
   "execution_count": 6,
   "metadata": {},
   "outputs": [
    {
     "ename": "NameError",
     "evalue": "name 'X' is not defined",
     "output_type": "error",
     "traceback": [
      "\u001b[0;31m---------------------------------------------------------------------------\u001b[0m",
      "\u001b[0;31mNameError\u001b[0m                                 Traceback (most recent call last)",
      "\u001b[1;32m/Users/blairjdaniel/ubc_ds/machine_learning/lesson_one.ipynb Cell 3\u001b[0m line \u001b[0;36m9\n\u001b[1;32m      <a href='vscode-notebook-cell:/Users/blairjdaniel/ubc_ds/machine_learning/lesson_one.ipynb#W5sZmlsZQ%3D%3D?line=6'>7</a>\u001b[0m \u001b[39mfor\u001b[39;00m strategy \u001b[39min\u001b[39;00m strategies:\n\u001b[1;32m      <a href='vscode-notebook-cell:/Users/blairjdaniel/ubc_ds/machine_learning/lesson_one.ipynb#W5sZmlsZQ%3D%3D?line=7'>8</a>\u001b[0m     clf \u001b[39m=\u001b[39m DummyClassifier(strategy\u001b[39m=\u001b[39mstrategy, random_state\u001b[39m=\u001b[39m\u001b[39m1\u001b[39m)\n\u001b[0;32m----> <a href='vscode-notebook-cell:/Users/blairjdaniel/ubc_ds/machine_learning/lesson_one.ipynb#W5sZmlsZQ%3D%3D?line=8'>9</a>\u001b[0m     clf\u001b[39m.\u001b[39mfit(X, y)\n\u001b[1;32m     <a href='vscode-notebook-cell:/Users/blairjdaniel/ubc_ds/machine_learning/lesson_one.ipynb#W5sZmlsZQ%3D%3D?line=9'>10</a>\u001b[0m     y_pred \u001b[39m=\u001b[39m clf\u001b[39m.\u001b[39mpredict(X)\n\u001b[1;32m     <a href='vscode-notebook-cell:/Users/blairjdaniel/ubc_ds/machine_learning/lesson_one.ipynb#W5sZmlsZQ%3D%3D?line=10'>11</a>\u001b[0m     accuracy \u001b[39m=\u001b[39m \u001b[39mround\u001b[39m(accuracy_score(y, y_pred), \u001b[39m2\u001b[39m)\n",
      "\u001b[0;31mNameError\u001b[0m: name 'X' is not defined"
     ]
    }
   ],
   "source": [
    "from sklearn.dummy import DummyClassifier\n",
    "from sklearn.metrics import accuracy_score\n",
    "\n",
    "strategies = [\"stratified\", \"most_frequent\", \"uniform\"]\n",
    "accuracies = []\n",
    "\n",
    "for strategy in strategies:\n",
    "    clf = DummyClassifier(strategy=strategy, random_state=1)\n",
    "    clf.fit(X, y)\n",
    "    y_pred = clf.predict(X)\n",
    "    accuracy = round(accuracy_score(y, y_pred), 2)\n",
    "    accuracies.append(accuracy)"
   ]
  }
 ],
 "metadata": {
  "kernelspec": {
   "display_name": "Python 3",
   "language": "python",
   "name": "python3"
  },
  "language_info": {
   "codemirror_mode": {
    "name": "ipython",
    "version": 3
   },
   "file_extension": ".py",
   "mimetype": "text/x-python",
   "name": "python",
   "nbconvert_exporter": "python",
   "pygments_lexer": "ipython3",
   "version": "3.11.3"
  }
 },
 "nbformat": 4,
 "nbformat_minor": 2
}
